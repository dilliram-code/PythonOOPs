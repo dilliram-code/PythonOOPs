{
 "cells": [
  {
   "cell_type": "code",
   "execution_count": 5,
   "id": "1d3c2af2",
   "metadata": {},
   "outputs": [
    {
     "name": "stdout",
     "output_type": "stream",
     "text": [
      "*\n",
      "**\n",
      "***\n",
      "****\n"
     ]
    }
   ],
   "source": [
    "# Printing pattern\n",
    "\n",
    "for j in range(1,5):\n",
    "  print(\"*\"*j,)"
   ]
  },
  {
   "cell_type": "code",
   "execution_count": 5,
   "id": "85d13c4c",
   "metadata": {},
   "outputs": [
    {
     "name": "stdout",
     "output_type": "stream",
     "text": [
      "* \n",
      "* * \n",
      "* * * \n",
      "* * * * \n",
      "* * * * * \n"
     ]
    }
   ],
   "source": [
    "# Another method\n",
    "n = 5\n",
    "for i in range(1,n+1):\n",
    "  for j in range(1,i+1):\n",
    "    print(\"*\", end=\" \")\n",
    "  print()"
   ]
  },
  {
   "cell_type": "code",
   "execution_count": 9,
   "id": "1f84fa73",
   "metadata": {},
   "outputs": [
    {
     "name": "stdout",
     "output_type": "stream",
     "text": [
      "1\n",
      "121\n",
      "12321\n",
      "1234321\n",
      "123454321\n"
     ]
    }
   ],
   "source": [
    "# 1\n",
    "# 121\n",
    "# 12321\n",
    "# 1234321\n",
    "n = 5\n",
    "for i in range(1, n+1):\n",
    "  for j in range(1,i+1):\n",
    "    print(j, end=\"\")\n",
    "  for k in range(i-1, 0, -1):\n",
    "    print(k, end=\"\")\n",
    "  print()"
   ]
  },
  {
   "cell_type": "markdown",
   "id": "82bb2f24",
   "metadata": {},
   "source": [
    "🟢 Beginner Level\n",
    "Reverse a string\n",
    "Input: \"hello\" → Output: \"olleh\"\n",
    "\n",
    "Check if a string is a palindrome\n",
    "Input: \"madam\" → Output: True\n",
    "\n",
    "Count vowels and consonants in a string\n",
    "Input: \"Python\" → Output: Vowels: 1, Consonants: 5\n",
    "\n",
    "Remove all spaces from a string\n",
    "Input: \"a b c\" → Output: \"abc\"\n",
    "\n",
    "Convert a string to uppercase and lowercase\n",
    "Input: \"PyThOn\" → Output: \"PYTHON\", \"python\"\n",
    "\n",
    "Count the number of words in a string\n",
    "Input: \"I love Python\" → Output: 3\n",
    "\n",
    "Replace a word in a string\n",
    "Input: \"I love Java\" → Replace \"Java\" with \"Python\"\n",
    "\n",
    "Find the longest word in a sentence\n",
    "Input: \"I enjoy solving problems\" → Output: \"problems\"\n",
    "\n",
    "\n",
    "🟡 Intermediate Level\n",
    "Find the most frequent character in a string\n",
    "Input: \"banana\" → Output: \"a\"\n",
    "\n",
    "Check if two strings are anagrams\n",
    "Input: \"listen\", \"silent\" → Output: True\n",
    "\n",
    "Remove all duplicate characters from a string\n",
    "Input: \"aabbcc\" → Output: \"abc\"\n",
    "\n",
    "Capitalize the first letter of each word\n",
    "Input: \"hello world\" → Output: \"Hello World\"\n",
    "\n",
    "Swap case (uppercase to lowercase and vice versa)\n",
    "Input: \"PyThOn\" → Output: \"pYtHoN\"\n",
    "\n",
    "Extract digits from a string\n",
    "Input: \"abc123xyz\" → Output: \"123\"\n",
    "\n",
    "Compress a string (Run Length Encoding)\n",
    "Input: \"aaabbc\" → Output: \"a3b2c1\"\n",
    "\n",
    "Find all substrings of a string\n",
    "Input: \"abc\" → Output: ['a', 'b', 'c', 'ab', 'bc', 'abc']\n",
    "\n",
    "🔴 Advanced Level\n",
    "Check if a string contains only ASCII characters\n",
    "\n",
    "Validate if a string is a valid email\n",
    "\n",
    "Remove all punctuations from a string\n",
    "Input: \"Hello! Are you there?\" → Output: \"Hello Are you there\"\n",
    "\n",
    "Find the first non-repeating character\n",
    "Input: \"aabbcdde\" → Output: \"c\"\n",
    "\n",
    "Check if string is a valid Python identifier\n",
    "Input: \"my_var\" → Output: True, \"123abc\" → False\n",
    "\n",
    "Custom implementation of split() and join()\n",
    "\n",
    "Group words that are anagrams in a list\n",
    "Input: [\"bat\", \"tab\", \"cat\", \"act\"] → Output: [[\"bat\", \"tab\"], [\"cat\", \"act\"]]\n",
    "\n",
    "Count the frequency of all characters in a string\n",
    "\n",
    "Convert a Roman numeral string to an integer\n",
    "\n"
   ]
  },
  {
   "cell_type": "markdown",
   "id": "6d7b028e",
   "metadata": {},
   "source": [
    "### Basic Level"
   ]
  },
  {
   "cell_type": "code",
   "execution_count": 16,
   "id": "d9541f4f",
   "metadata": {},
   "outputs": [
    {
     "data": {
      "text/plain": [
       "'yako'"
      ]
     },
     "execution_count": 16,
     "metadata": {},
     "output_type": "execute_result"
    }
   ],
   "source": [
    "# Problem No: 1  Reverse a string\n",
    "# Input: \"hello\" → Output: \"olleh\"\n",
    "\n",
    "user_input = input(\"Enter a string: \")\n",
    "user_input[::-1]"
   ]
  },
  {
   "cell_type": "code",
   "execution_count": null,
   "id": "c20d2044",
   "metadata": {},
   "outputs": [
    {
     "name": "stdout",
     "output_type": "stream",
     "text": [
      "The string madam is palindrome\n"
     ]
    }
   ],
   "source": [
    "# Problem No 2: Check if a string is a palindrome\n",
    "# Input: \"madam\" → Output: True\n",
    "input_string = input(\"Enter a string: \")\n",
    "reverse_string = input_string[::-1]\n",
    "if input_string == reverse_string:\n",
    "  print(\"The string {} is palindrome\".format(input_string))\n",
    "else:\n",
    "  print(\"The string is not a palindrome.\")"
   ]
  },
  {
   "cell_type": "code",
   "execution_count": 22,
   "id": "b9091d79",
   "metadata": {},
   "outputs": [
    {
     "name": "stdout",
     "output_type": "stream",
     "text": [
      "The vowels are 3 and constant are 5.\n"
     ]
    }
   ],
   "source": [
    "# Count vowels and consonants in a string\n",
    "# Input: \"Python\" → Output: Vowels: 1, Consonants: 5\n",
    "\n",
    "test_input = input(\"Enter a string: \")\n",
    "vowels = \"aeiou\"\n",
    "vowels_count = 0\n",
    "constant_counts = 0\n",
    "for i in test_input:\n",
    "  if i in vowels.lower():\n",
    "    vowels_count = vowels_count + 1\n",
    "  else:\n",
    "    constant_counts = constant_counts + 1\n",
    "print(\"The vowels are {} and constant are {}.\".format(vowels_count, constant_counts))"
   ]
  },
  {
   "cell_type": "code",
   "execution_count": 27,
   "id": "2e2f0e1e",
   "metadata": {},
   "outputs": [
    {
     "name": "stdout",
     "output_type": "stream",
     "text": [
      "ABCD\n"
     ]
    }
   ],
   "source": [
    "# Problem No 3: Remove all spaces from a string\n",
    "# Input: \"a b c\" → Output: \"abc\"\n",
    "gap_string = input(\"Enter a string: \")\n",
    "string_list = gap_string.split()\n",
    "joined_string = \"\".join(string_list)\n",
    "print(joined_string)"
   ]
  },
  {
   "cell_type": "code",
   "execution_count": 25,
   "id": "2cbfadde",
   "metadata": {},
   "outputs": [
    {
     "name": "stdout",
     "output_type": "stream",
     "text": [
      "Vowels in the string: ['a', 'e']\n"
     ]
    }
   ],
   "source": [
    "# Print vowels from a given string\n",
    "given_string = input(\"Enter a string: \")\n",
    "vowels_in_string = [char for char in given_string if char.lower() in vowels]\n",
    "print(\"Vowels in the string:\", vowels_in_string)"
   ]
  },
  {
   "cell_type": "code",
   "execution_count": 24,
   "id": "12c0e2bd",
   "metadata": {},
   "outputs": [
    {
     "data": {
      "text/plain": [
       "['okay', 'ram']"
      ]
     },
     "execution_count": 24,
     "metadata": {},
     "output_type": "execute_result"
    }
   ],
   "source": [
    "string_list"
   ]
  },
  {
   "cell_type": "code",
   "execution_count": 28,
   "id": "8f5f248f",
   "metadata": {},
   "outputs": [
    {
     "name": "stdout",
     "output_type": "stream",
     "text": [
      "The upper string is RAKESHTHAPA and the lower one is rakeshthapa\n"
     ]
    }
   ],
   "source": [
    "# Convert a string to uppercase and lowercase\n",
    "# Input: \"PyThOn\" → Output: \"PYTHON\", \"python\"\n",
    "random_string = input(\"Enter a random string: \")\n",
    "upper_String = random_string.upper()\n",
    "lower_string = random_string.lower()\n",
    "print(\"The upper string is {} and the lower one is {}\".format(upper_String, lower_string))"
   ]
  },
  {
   "cell_type": "code",
   "execution_count": 31,
   "id": "14521548",
   "metadata": {},
   "outputs": [
    {
     "name": "stdout",
     "output_type": "stream",
     "text": [
      "The input string is: I live in the capital city of Nepal which is a very beautiful city\n",
      "Total number of words in the I live in the capital city of Nepal which is a very beautiful city is 14\n"
     ]
    }
   ],
   "source": [
    "# Count the number of words in a string\n",
    "# Input: \"I love Python\" → Output: 3\n",
    "given_word = input(\"Enter a word:\")\n",
    "word_list1 = len(given_word.split())\n",
    "print(\"The input string is: {}\".format(given_word))\n",
    "print(\"Total number of words in the {} is {}\".format(given_word, word_list1))"
   ]
  },
  {
   "cell_type": "code",
   "execution_count": 4,
   "id": "3fbd9b3f",
   "metadata": {},
   "outputs": [
    {
     "name": "stdout",
     "output_type": "stream",
     "text": [
      "I love Python\n"
     ]
    }
   ],
   "source": [
    "# Replace a word in a string\n",
    "# Input: \"I love Java\" → Replace \"Java\" with \"Python\"\n",
    "\n",
    "original_string = input(\"Enter a sentence: \")\n",
    "replaced_string = original_string.replace(\"Java\", \"Python\")\n",
    "print(replaced_string)"
   ]
  },
  {
   "cell_type": "code",
   "execution_count": 14,
   "id": "70cda3a6",
   "metadata": {},
   "outputs": [
    {
     "name": "stdout",
     "output_type": "stream",
     "text": [
      "The longest word is: javascript\n"
     ]
    }
   ],
   "source": [
    "# Find the longest word in a sentence\n",
    "# Input: \"I enjoy solving problems\" → Output: \"problems\"\n",
    "\n",
    "sentence1 = input(\"Enter a sentence: \")\n",
    "sentence1_list = sentence1.split()\n",
    "word = \"\"\n",
    "for i in sentence1_list:\n",
    "  if len(i)>len(word):\n",
    "      word =  i\n",
    "print(\"The longest word is: {}\".format(word))"
   ]
  },
  {
   "cell_type": "code",
   "execution_count": 5,
   "id": "b872d93f",
   "metadata": {},
   "outputs": [
    {
     "name": "stdout",
     "output_type": "stream",
     "text": [
      "6\n"
     ]
    }
   ],
   "source": [
    "# Print the length of a string without using the string function\n",
    "len_string = input(\"Enter a string: \")\n",
    "count = 0\n",
    "for i in len_string:\n",
    "  count = count+1\n",
    "print(count)"
   ]
  },
  {
   "cell_type": "code",
   "execution_count": 6,
   "id": "16e5757e",
   "metadata": {},
   "outputs": [
    {
     "name": "stdout",
     "output_type": "stream",
     "text": [
      "chaudharydr23\n"
     ]
    }
   ],
   "source": [
    "# Extract the username from the given email\n",
    "# Example: if the email is chaudharydr23@gmail.com \n",
    "# The username should be: chaudharydr23\n",
    "user_email = input(\"Enter your email: \")\n",
    "email_split = user_email.split('@')\n",
    "print(email_split[0])"
   ]
  },
  {
   "cell_type": "code",
   "execution_count": 18,
   "id": "8f6b3068",
   "metadata": {},
   "outputs": [
    {
     "name": "stdout",
     "output_type": "stream",
     "text": [
      "3\n"
     ]
    }
   ],
   "source": [
    "# Count the frequency of a particular character in a string\n",
    "# Eg: \"Hello, how are you?\" is a string, the frequency of h in the string is 2\n",
    "character = 0\n",
    "character_string = input(\"Enter a string: \").lower()\n",
    "character_string = character_string.split()\n",
    "character_string = \"\".join(character_string)\n",
    "character_string = list(character_string)\n",
    "for i in character_string:\n",
    "  if i == \"h\":\n",
    "    character = character + 1\n",
    "print(character)"
   ]
  },
  {
   "cell_type": "code",
   "execution_count": 21,
   "id": "b6aaac39",
   "metadata": {},
   "outputs": [
    {
     "name": "stdout",
     "output_type": "stream",
     "text": [
      "Hllo\n"
     ]
    }
   ],
   "source": [
    "# WAP that can remove a particular letter from a string:\n",
    "string_removal = input(\"Enter a string: \")\n",
    "after_removal = []\n",
    "for i in string_removal:\n",
    "  if i == \"e\":\n",
    "    continue\n",
    "  after_removal.append(i)\n",
    "required_one = \"\".join(after_removal)\n",
    "print(required_one)"
   ]
  },
  {
   "cell_type": "markdown",
   "id": "6e6e9ba4",
   "metadata": {},
   "source": [
    "### Intermediate Level"
   ]
  },
  {
   "cell_type": "code",
   "execution_count": null,
   "id": "fa237c19",
   "metadata": {},
   "outputs": [
    {
     "data": {
      "text/plain": [
       "True"
      ]
     },
     "execution_count": 1,
     "metadata": {},
     "output_type": "execute_result"
    }
   ],
   "source": [
    "# Find the most frequent character in a string\n",
    "# Input: \"banana\" → Output: \"a\"\n",
    "\n",
    "# Pending 😒\n"
   ]
  },
  {
   "cell_type": "code",
   "execution_count": 13,
   "id": "cb950654",
   "metadata": {},
   "outputs": [
    {
     "name": "stdout",
     "output_type": "stream",
     "text": [
      "anagrams.\n"
     ]
    }
   ],
   "source": [
    "# Check if two strings are anagrams\n",
    "# Input: \"listen\", \"silent\" → Output: True\n",
    "set1_list = []\n",
    "set2_list = []\n",
    "\n",
    "first_string = input(\"Enter the first string: \")\n",
    "second_string = input(\"Enter the second string: \")\n",
    "\n",
    "for i in first_string:\n",
    "  set1_list.append(i)\n",
    "for j in second_string:\n",
    "  set2_list.append(j)\n",
    "  \n",
    "set1 = set(set1_list)\n",
    "set2 = set(set2_list)\n",
    "\n",
    "if set1 == set2:\n",
    "  print(\"anagrams.\")\n",
    "else:\n",
    "  print(\"not anagrams.\")\n",
    "# SOLVED 😍"
   ]
  },
  {
   "cell_type": "code",
   "execution_count": null,
   "id": "5f657168",
   "metadata": {},
   "outputs": [
    {
     "name": "stdout",
     "output_type": "stream",
     "text": [
      "dacb\n"
     ]
    }
   ],
   "source": [
    "# Remove all duplicate characters from a string\n",
    "# Input: \"aabbcc\" → Output: \"abc\"\n",
    "char_list = []\n",
    "with_dublicates = input(\"Enter a string: \")\n",
    "for i in with_dublicates:\n",
    "  char_list.append(i)\n",
    "  \n",
    "without_dublicates = list(set(char_list))\n",
    "final_string = \"\".join(without_dublicates)\n",
    "\n",
    "print(final_string)\n",
    "\n",
    "# SOLVED 😍"
   ]
  },
  {
   "cell_type": "code",
   "execution_count": null,
   "id": "cd85fd64",
   "metadata": {},
   "outputs": [
    {
     "name": "stdout",
     "output_type": "stream",
     "text": [
      "Dilliram Chaudhary\n"
     ]
    }
   ],
   "source": [
    "# Capitalize the first letter of each word\n",
    "# Input: \"hello world\" → Output: \"Hello World\"\n",
    "first_capitalize = input(\"Enter a string: \")\n",
    "capitalized_string = first_capitalize.title()\n",
    "print(capitalized_string)\n",
    "\n",
    "# SOLVED😍"
   ]
  },
  {
   "cell_type": "code",
   "execution_count": null,
   "id": "ac76a9f8",
   "metadata": {},
   "outputs": [
    {
     "name": "stdout",
     "output_type": "stream",
     "text": [
      "The original one: PyTHOn\n",
      "The swapped one: pYthoN\n"
     ]
    }
   ],
   "source": [
    "# Swap case (uppercase to lowercase and vice versa)\n",
    "# Input: \"PyThOn\" → Output: \"pYtHoN\"\n",
    "swap_this = input(\"Enter a string to swap it: \")\n",
    "swapped_one = swap_this.swapcase()\n",
    "print(\"The original one: {}\\nThe swapped one: {}\".format(swap_this, swapped_one))\n",
    "\n",
    "# SOLVED 😍 \n"
   ]
  },
  {
   "cell_type": "code",
   "execution_count": null,
   "id": "7d6955a3",
   "metadata": {},
   "outputs": [
    {
     "name": "stdout",
     "output_type": "stream",
     "text": [
      "123234\n"
     ]
    }
   ],
   "source": [
    "# Extract digits from a string\n",
    "# Input: \"abc123xyz\" → Output: \"123\"\n",
    "extract_list = []\n",
    "extract_digit = input(\"Enter a raw string: \")\n",
    "\n",
    "for i in extract_digit:\n",
    "  if i.isdigit():\n",
    "    extract_list.append(i)\n",
    "\n",
    "extract_string = \"\".join(extract_list)\n",
    "print(extract_string)\n",
    "\n",
    "# SOLVED 😍"
   ]
  },
  {
   "cell_type": "code",
   "execution_count": null,
   "id": "875199f3",
   "metadata": {},
   "outputs": [],
   "source": [
    "# Compress a string (Run Length Encoding)\n",
    "# Input: \"aaabbc\" → Output: \"a3b2c1\"\n",
    "compress_length = input(\"Enter a string: \")\n",
    "compress_length\n",
    "\n",
    "# PENDING 🤨"
   ]
  },
  {
   "cell_type": "code",
   "execution_count": null,
   "id": "9f6302e5",
   "metadata": {},
   "outputs": [],
   "source": []
  },
  {
   "cell_type": "code",
   "execution_count": null,
   "id": "266fe1fe",
   "metadata": {},
   "outputs": [],
   "source": []
  },
  {
   "cell_type": "code",
   "execution_count": null,
   "id": "621d6f3c",
   "metadata": {},
   "outputs": [],
   "source": []
  },
  {
   "cell_type": "code",
   "execution_count": null,
   "id": "e6c51bdd",
   "metadata": {},
   "outputs": [],
   "source": []
  },
  {
   "cell_type": "code",
   "execution_count": null,
   "id": "d59dd532",
   "metadata": {},
   "outputs": [],
   "source": []
  },
  {
   "cell_type": "code",
   "execution_count": null,
   "id": "fb2c4dc5",
   "metadata": {},
   "outputs": [],
   "source": []
  },
  {
   "cell_type": "code",
   "execution_count": null,
   "id": "1a0dfb52",
   "metadata": {},
   "outputs": [],
   "source": []
  },
  {
   "cell_type": "code",
   "execution_count": null,
   "id": "85e74186",
   "metadata": {},
   "outputs": [],
   "source": []
  },
  {
   "cell_type": "code",
   "execution_count": null,
   "id": "7c68ce20",
   "metadata": {},
   "outputs": [],
   "source": []
  },
  {
   "cell_type": "code",
   "execution_count": null,
   "id": "d8699c0a",
   "metadata": {},
   "outputs": [],
   "source": []
  },
  {
   "cell_type": "code",
   "execution_count": null,
   "id": "b42a7e8d",
   "metadata": {},
   "outputs": [],
   "source": []
  },
  {
   "cell_type": "code",
   "execution_count": null,
   "id": "0158cbcb",
   "metadata": {},
   "outputs": [],
   "source": []
  },
  {
   "cell_type": "code",
   "execution_count": null,
   "id": "74167907",
   "metadata": {},
   "outputs": [],
   "source": []
  },
  {
   "cell_type": "code",
   "execution_count": null,
   "id": "22477f3a",
   "metadata": {},
   "outputs": [],
   "source": []
  },
  {
   "cell_type": "code",
   "execution_count": null,
   "id": "50f6386f",
   "metadata": {},
   "outputs": [],
   "source": []
  }
 ],
 "metadata": {
  "kernelspec": {
   "display_name": "base",
   "language": "python",
   "name": "python3"
  },
  "language_info": {
   "codemirror_mode": {
    "name": "ipython",
    "version": 3
   },
   "file_extension": ".py",
   "mimetype": "text/x-python",
   "name": "python",
   "nbconvert_exporter": "python",
   "pygments_lexer": "ipython3",
   "version": "3.10.14"
  }
 },
 "nbformat": 4,
 "nbformat_minor": 5
}
