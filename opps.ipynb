{
 "cells": [
  {
   "cell_type": "markdown",
   "id": "ef06df01",
   "metadata": {},
   "source": [
    "\n",
    "### `OOPS practise`"
   ]
  },
  {
   "cell_type": "code",
   "execution_count": null,
   "id": "d101670d",
   "metadata": {},
   "outputs": [],
   "source": [
    "class BankAtm:\n",
    "    def __init__(self):\n",
    "        self.balance = 0\n",
    "        self.pin = None\n",
    "        self.menu()\n",
    "\t\t\n",
    "    # menu function\n",
    "    def menu(self):\n",
    "        press_number = int(input(\n",
    "            \"\"\"Press a number:\n",
    "            1. Set your PIN\n",
    "            2. Change your PIN\n",
    "            3. Check your balance\n",
    "            4. Withdraw your balance\n",
    "            5. Deposit money\n",
    "            6. Press 6 to exit\n",
    "            \"\"\" \n",
    "            ))\n",
    "        if press_number == 1:\n",
    "            self.set_pin()\n",
    "        elif press_number == 2:\n",
    "            self.change_pin()\n",
    "        elif press_number == 3:\n",
    "            self.check_balance()\n",
    "        elif press_number == 4:\n",
    "            self.withdraw_cash()\n",
    "        elif press_number == 5:\n",
    "            self.deposit_cash() \n",
    "        else:\n",
    "            self.exit_atm()\n",
    "\n",
    "    # Change your PIN\n",
    "    def set_pin(self):\n",
    "        my_pin = input(\"Enter your PIN\")\n",
    "        self.pin = my_pin\n",
    "        \n",
    "        print(\"Your PIN has been created.\")\n",
    "        self.menu()\n",
    "    \n",
    "    # Change your pin\n",
    "    def change_pin(self):\n",
    "        old_pin = input(\"Enter your current pin\")\n",
    "        if self.pin == old_pin:\n",
    "            new_pin = input(\"Enter your new pin\")\n",
    "            self.pin = new_pin\n",
    "            print(\"Your pin is changed\")\n",
    "        else:\n",
    "            print(\"Incorrect pin, try again later!\")\n",
    "        \n",
    "        self.menu()\n",
    "    \n",
    "    def check_balance(self):\n",
    "        print(\"your current balance is {}.\".format(self.balance))\n",
    "        self.menu()\n",
    "    \n",
    "    def withdraw_cash(self):\n",
    "        request_balance = int(input(\"Enter the amount\"))\n",
    "\n",
    "        if int(self.balance) < request_balance :\n",
    "            print(\"Insufficient balance.\")\n",
    "        else:\n",
    "            print(\"You deducted {} amount.\".format(request_balance))\n",
    "        self.balance = self.balance - request_balance\n",
    "        self.menu()\n",
    "    \n",
    "    def deposit_cash (self):\n",
    "        cash = int(input(\"Enter the amount to be deoposit.\"))\n",
    "        if cash < 0:\n",
    "            print(\"Invalid Enter\")\n",
    "        else:\n",
    "            self.balance = self.balance + cash\n",
    "            print(\"You deposited {} and your current balance is {}\".format(cash,self.balance))\n",
    "        self.menu()\n",
    "    \n",
    "    def exit_atm (self):\n",
    "        exit()"
   ]
  },
  {
   "cell_type": "code",
   "execution_count": 7,
   "id": "436b5647",
   "metadata": {},
   "outputs": [],
   "source": [
    "obj = BankAtm()"
   ]
  },
  {
   "cell_type": "code",
   "execution_count": null,
   "id": "1ffaa652",
   "metadata": {},
   "outputs": [],
   "source": []
  }
 ],
 "metadata": {
  "kernelspec": {
   "display_name": "base",
   "language": "python",
   "name": "python3"
  },
  "language_info": {
   "codemirror_mode": {
    "name": "ipython",
    "version": 3
   },
   "file_extension": ".py",
   "mimetype": "text/x-python",
   "name": "python",
   "nbconvert_exporter": "python",
   "pygments_lexer": "ipython3",
   "version": "3.10.14"
  }
 },
 "nbformat": 4,
 "nbformat_minor": 5
}
